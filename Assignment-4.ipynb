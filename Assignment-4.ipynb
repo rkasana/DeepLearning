{
 "cells": [
  {
   "cell_type": "markdown",
   "metadata": {},
   "source": [
    "## Assignment-4"
   ]
  },
  {
   "cell_type": "markdown",
   "metadata": {},
   "source": [
    "##### **1.1.** Write a Python Program(with class concepts) to find the area of the triangle using the below formula.<br> <br> &nbsp; &nbsp;area = (s*(s-a)*(s-b)*(s-c)) ** 0.5 .<br><br>**Note:** Function to take the length of the sides of triangle from user should be defined in the parent class and function to calculate the area should be defined in subclass."
   ]
  },
  {
   "cell_type": "markdown",
   "metadata": {},
   "source": [
    "**Solution:**"
   ]
  },
  {
   "cell_type": "code",
   "execution_count": 6,
   "metadata": {},
   "outputs": [
    {
     "name": "stdout",
     "output_type": "stream",
     "text": [
      "First Side:14\n",
      "Second Side:15\n",
      "Third Side:18\n",
      "This is a triangle with sides 14, 15, and 18\n",
      "The area of the triangle is: 102.16\n"
     ]
    }
   ],
   "source": [
    "# import neccessary details\n",
    "import math\n",
    "\n",
    "# Class Declaration and definition\n",
    "class Area():\n",
    "    \"\"\"\n",
    "    Main() Class\n",
    "    \"\"\"\n",
    "    def __init__(self, first_side, second_side, third_side):\n",
    "        self.first_side = first_side\n",
    "        self.second_side = second_side\n",
    "        self.third_side = third_side\n",
    "        \n",
    "    @classmethod   # decorator method to get the user from the input\n",
    "    def from_input(cls):\n",
    "        return cls(int(input(\"First Side:\")),\n",
    "                   int(input(\"Second Side:\")),\n",
    "                   int(input(\"Third Side:\"))\n",
    "                  )\n",
    "    \n",
    "    def __str__(self):\n",
    "        \"\"\" Return a descriptive instance, invoked by print() and str() \"\"\"\n",
    "        return \"This is a triangle with sides {}, {}, and {}\".format(self.first_side,self.second_side,self.third_side)            \n",
    "    \n",
    "        \n",
    "class Areatriangle(Area):\n",
    "    \"\"\" \n",
    "    Inherited from Class Area\n",
    "    \"\"\"\n",
    "    \n",
    "    def __init__(self,*args):\n",
    "        \"\"\" Initializer\"\"\"\n",
    "        super().__init__(*args)\n",
    "#         \n",
    "    def calculate_area(self):\n",
    "        \n",
    "        s = (self.first_side+self.second_side+self.third_side)/2\n",
    "        area = math.sqrt(s*(s-self.first_side)*(s-self.second_side)*(s-self.third_side))\n",
    "        return area\n",
    "        \n",
    "\n",
    "if __name__ == '__main__':\n",
    "    \n",
    "    triangle = Areatriangle.from_input()\n",
    "    \n",
    "    print(triangle)\n",
    "\n",
    "    print(\"The area of the triangle is:\", round(triangle.calculate_area(),2))\n",
    "    \n",
    "    \n",
    "        "
   ]
  },
  {
   "cell_type": "markdown",
   "metadata": {},
   "source": [
    "##### **1.2:** Write a function filter_long_words() that takes a list of words and an integer n and returns the list of words that are longer than n."
   ]
  },
  {
   "cell_type": "markdown",
   "metadata": {},
   "source": [
    "**Solution:**"
   ]
  },
  {
   "cell_type": "code",
   "execution_count": 16,
   "metadata": {},
   "outputs": [
    {
     "name": "stdout",
     "output_type": "stream",
     "text": [
      "Enter mutiple words: station, mushy, spoon, reading, concerned, tight\n",
      "Enter the value of n: 5\n",
      "The list of words that are longer than 5: ['station', ' reading', ' concerned']\n"
     ]
    }
   ],
   "source": [
    "def filter_long_words(words_list, n):\n",
    "    \"\"\"\n",
    "    This function takes a list of words and an iterger and returns the \n",
    "    list of words that are longer than n\n",
    "    \"\"\"\n",
    "    \n",
    "    return [word for word in words_list if len(word.strip())> n]  # strip() is used to remove extra \n",
    "                                                # space \n",
    "   \n",
    "        \n",
    "# main function\n",
    "if __name__ ==\"__main__\":\n",
    "    \n",
    "    words_list = input(\"Enter mutiple words: \").split(',') # Comma-seperated multiple words\n",
    "    n = int(input(\"Enter the value of n: \"))\n",
    "    \n",
    "    out = filter_long_words(words_list, n)\n",
    "    \n",
    "    print(f\"The list of words that are longer than {n}: {out}\")\n",
    "    "
   ]
  },
  {
   "cell_type": "markdown",
   "metadata": {},
   "source": [
    "##### **2.1.** Write a Python program using function concept that maps list of words into a list of integers representing the lengths of the corresponding words.  <br>**Hint:** If a list [ ab,cde,erty] is passed on to the python function output should come as [2,3,4] .Here 2,3 and 4 are the lengths of the words in the list."
   ]
  },
  {
   "cell_type": "markdown",
   "metadata": {},
   "source": [
    "**Solution:**"
   ]
  },
  {
   "cell_type": "code",
   "execution_count": 5,
   "metadata": {},
   "outputs": [
    {
     "name": "stdout",
     "output_type": "stream",
     "text": [
      "The length of the words : [2, 3, 4]\n"
     ]
    }
   ],
   "source": [
    "def length_words(input_list):\n",
    "    \"\"\"\n",
    "    This function maps list of words into a list of integers \n",
    "    \n",
    "    \"\"\"\n",
    "    return [len(word) for word in input_list]  # list comprehensions\n",
    "   \n",
    "#main function\n",
    "if __name__ ==\"__main__\":\n",
    "    \n",
    "    input_list = ['ab','cdf','efty']\n",
    "    output = length_words(input_list)    \n",
    "    print(f\"The length of the words : {output}\")"
   ]
  },
  {
   "cell_type": "markdown",
   "metadata": {},
   "source": [
    "##### **2.2.** Write a Python function which takes a character (i.e. a string of length 1) and returns True if it is a vowel, False otherwise."
   ]
  },
  {
   "cell_type": "markdown",
   "metadata": {},
   "source": [
    "**Solution:**"
   ]
  },
  {
   "cell_type": "code",
   "execution_count": 2,
   "metadata": {},
   "outputs": [
    {
     "name": "stdout",
     "output_type": "stream",
     "text": [
      "Enter a alphabet: A\n",
      " The alphabet entered is a vowel\n"
     ]
    }
   ],
   "source": [
    "def vowels(alphabet):\n",
    "    \"\"\"\n",
    "    1.This function takes a chracter as an input and return True if it is Vowel, False otherwise.\n",
    "    2. This function is not case sensitive\n",
    "    \n",
    "    \"\"\"\n",
    "    vowel = ['a','e','i','o','u']\n",
    "    \n",
    "    if alphabet.lower() in vowel:\n",
    "        return True\n",
    "    else:\n",
    "        return False\n",
    "    \n",
    "\n",
    "# Main function\n",
    "\n",
    "if __name__ == '__main__':\n",
    "    \n",
    "    num_of_attempts = 1\n",
    "    \n",
    "    while num_of_attempts<=5:\n",
    "        alphabet = input(\"Enter a alphabet: \")\n",
    "    \n",
    "        if len(alphabet) == 1:\n",
    "            output = vowels(alphabet)\n",
    "            if output is True:\n",
    "                print(\" The alphabet entered is a vowel\")\n",
    "            else:\n",
    "                print(\"The alphabet entered is not a vowel\")\n",
    "            break\n",
    "        \n",
    "        else:\n",
    "            print(f\"The {alphabet} is a word, not an alphabet \", sep = '\\n')\n",
    "            \n",
    "            if (5-num_of_attempts) == 0:\n",
    "                print(\"Sorry, you dont have any attempts left\", sep = \"\\n\")\n",
    "            else:\n",
    "                print(f\"Please enter a alphabet and you are left with {5-num_of_attempts} attempts\", sep='\\n')\n",
    "        \n",
    "        num_of_attempts+=1"
   ]
  }
 ],
 "metadata": {
  "kernelspec": {
   "display_name": "Python 3",
   "language": "python",
   "name": "python3"
  },
  "language_info": {
   "codemirror_mode": {
    "name": "ipython",
    "version": 3
   },
   "file_extension": ".py",
   "mimetype": "text/x-python",
   "name": "python",
   "nbconvert_exporter": "python",
   "pygments_lexer": "ipython3",
   "version": "3.7.6"
  }
 },
 "nbformat": 4,
 "nbformat_minor": 4
}
