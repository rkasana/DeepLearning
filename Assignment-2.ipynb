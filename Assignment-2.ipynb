{
 "cells": [
  {
   "cell_type": "markdown",
   "metadata": {},
   "source": [
    "### <font color = blue>**Assignment - 2**</font>"
   ]
  },
  {
   "cell_type": "markdown",
   "metadata": {},
   "source": [
    "**1.** Create the below pattern using nested for loop in Python.\n",
    "\n",
    "$*$ <br>\n",
    "$* *$ <br>\n",
    "$* * *$ <br>\n",
    "$* * * *$ <br>\n",
    "$* * * * *$ <br>\n",
    "$* * * *$ <br>\n",
    "$* * *$<br>\n",
    "$* *$<br>\n",
    "$*$<br>"
   ]
  },
  {
   "cell_type": "markdown",
   "metadata": {},
   "source": [
    "**Solution**"
   ]
  },
  {
   "cell_type": "code",
   "execution_count": 9,
   "metadata": {},
   "outputs": [
    {
     "name": "stdout",
     "output_type": "stream",
     "text": [
      "Enter the value of n: 7\n",
      "\n",
      "\n",
      "*\n",
      "\n",
      "**\n",
      "\n",
      "***\n",
      "\n",
      "****\n",
      "\n",
      "*****\n",
      "\n",
      "******\n",
      "\n",
      "*******\n",
      "\n",
      "******\n",
      "\n",
      "*****\n",
      "\n",
      "****\n",
      "\n",
      "***\n",
      "\n",
      "**\n",
      "\n",
      "*\n",
      "\n"
     ]
    }
   ],
   "source": [
    "# Program using nested for loop\n",
    "n = int(input(\"Enter the value of n: \"))\n",
    "\n",
    "# Program logic \n",
    "for i in range(n):\n",
    "    for j in range(i):\n",
    "        print('*', end =\"\")\n",
    "    print('\\n')\n",
    "    \n",
    "for i in range(n,0,-1):\n",
    "    for j in range(i):\n",
    "        print('*', end =\"\")\n",
    "    print('\\n')\n",
    "    "
   ]
  },
  {
   "cell_type": "markdown",
   "metadata": {},
   "source": [
    "**Alternate Solution:**"
   ]
  },
  {
   "cell_type": "code",
   "execution_count": 10,
   "metadata": {},
   "outputs": [
    {
     "name": "stdout",
     "output_type": "stream",
     "text": [
      "Enter the value of n: 7\n",
      "\n",
      "*\n",
      "**\n",
      "***\n",
      "****\n",
      "*****\n",
      "******\n",
      "*******\n",
      "******\n",
      "*****\n",
      "****\n",
      "***\n",
      "**\n",
      "*\n"
     ]
    }
   ],
   "source": [
    "n = int(input(\"Enter the value of n: \"))\n",
    "\n",
    "# Program Logic\n",
    "for i in range(n):\n",
    "    print(i*'*')\n",
    "for i in range(n,0,-1):\n",
    "    print(i*'*')  "
   ]
  },
  {
   "cell_type": "markdown",
   "metadata": {},
   "source": [
    "**2.** Write a Python program to reverse a word after accepting the input from the user.\\\n",
    "**Sample Output:** \\\n",
    "Input word:&nbsp; &nbsp;AcadGild \\\n",
    "Output:&nbsp;&nbsp;dilGdacA "
   ]
  },
  {
   "cell_type": "markdown",
   "metadata": {},
   "source": [
    "**Solution:**"
   ]
  },
  {
   "cell_type": "code",
   "execution_count": 11,
   "metadata": {},
   "outputs": [
    {
     "name": "stdout",
     "output_type": "stream",
     "text": [
      "glAcid\n",
      "The reverse of glAcid is dicAlg\n"
     ]
    }
   ],
   "source": [
    "word = input()\n",
    "\n",
    "# Program Logic\n",
    "reverse_word = word[::-1]\n",
    "print(f\"The reverse of {word} is {reverse_word}\")\n"
   ]
  },
  {
   "cell_type": "markdown",
   "metadata": {},
   "source": [
    "**Alternate Solution :**"
   ]
  },
  {
   "cell_type": "code",
   "execution_count": 12,
   "metadata": {
    "scrolled": true
   },
   "outputs": [
    {
     "name": "stdout",
     "output_type": "stream",
     "text": [
      "glAcid\n",
      "The reverse of glAcid is dicAlg\n"
     ]
    }
   ],
   "source": [
    "word = input()\n",
    "\n",
    "reverse_word = \"\"\n",
    "\n",
    "for i in range(len(word)-1, -1, -1):\n",
    "    reverse_word+=word[i]\n",
    "    \n",
    "print(f\"The reverse of {word} is {reverse_word}\")"
   ]
  }
 ],
 "metadata": {
  "kernelspec": {
   "display_name": "Python 3",
   "language": "python",
   "name": "python3"
  },
  "language_info": {
   "codemirror_mode": {
    "name": "ipython",
    "version": 3
   },
   "file_extension": ".py",
   "mimetype": "text/x-python",
   "name": "python",
   "nbconvert_exporter": "python",
   "pygments_lexer": "ipython3",
   "version": "3.7.6"
  }
 },
 "nbformat": 4,
 "nbformat_minor": 4
}
